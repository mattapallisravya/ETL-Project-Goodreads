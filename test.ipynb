{
 "cells": [
  {
   "cell_type": "code",
   "execution_count": null,
   "metadata": {},
   "outputs": [],
   "source": [
    "# Import Dependencies\n",
    "import requests\n",
    "import json\n",
    "from bs4 import BeautifulSoup\n",
    "import time\n",
    "from splinter import Browser\n",
    "from webdriver_manager.chrome import ChromeDriverManager\n",
    "import pandas as pd\n",
    "from pandas import to_datetime"
   ]
  },
  {
   "cell_type": "code",
   "execution_count": null,
   "metadata": {},
   "outputs": [],
   "source": [
    "# Read CSV File\n",
    "data_df = pd.read_csv(\"tables/main_table1.csv\")\n",
    "data_df"
   ]
  },
  {
   "cell_type": "code",
   "execution_count": null,
   "metadata": {},
   "outputs": [],
   "source": [
    "# Filtering dates that doesn't follow correct format\n",
    "data_df1 = data_df.loc[data_df[\"publishDate\"].str.len()>8]\n",
    "data_df1.drop(columns=\"Unnamed: 0\")\n"
   ]
  },
  {
   "cell_type": "code",
   "execution_count": null,
   "metadata": {},
   "outputs": [],
   "source": [
    "# Cleaned the published date column to bring all dates to one format\n",
    "data_df1[\"publishedDate\"]= pd.to_datetime(data_df1['publishDate'],errors = 'coerce')\n",
    "data_df1"
   ]
  },
  {
   "cell_type": "code",
   "execution_count": null,
   "metadata": {},
   "outputs": [],
   "source": [
    "data_df1=data_df1.dropna()"
   ]
  },
  {
   "cell_type": "code",
   "execution_count": null,
   "metadata": {},
   "outputs": [],
   "source": [
    "data_df1['yearPublished'] = pd.DatetimeIndex(data_df1['publishedDate']).year\n",
    "data_df1"
   ]
  },
  {
   "cell_type": "code",
   "execution_count": null,
   "metadata": {},
   "outputs": [],
   "source": [
    "# Filtering the data for latest 5 yrs\n",
    "data_df1.sort_values(by=\"yearPublished\", ascending=False)"
   ]
  },
  {
   "cell_type": "code",
   "execution_count": null,
   "metadata": {},
   "outputs": [],
   "source": [
    "#Filtering the data for latest 5 yrs\n",
    "data_df1=data_df1[(data_df1['yearPublished']>=2015)&(data_df1['yearPublished']<=2020)].reset_index(inplace=False)\n",
    "data_df1"
   ]
  },
  {
   "cell_type": "code",
   "execution_count": null,
   "metadata": {},
   "outputs": [],
   "source": [
    "unique_author_list = data_df1['main author'].unique().tolist()\n"
   ]
  },
  {
   "cell_type": "code",
   "execution_count": null,
   "metadata": {},
   "outputs": [],
   "source": [
    "len(unique_author_list)"
   ]
  },
  {
   "cell_type": "code",
   "execution_count": null,
   "metadata": {},
   "outputs": [],
   "source": [
    "# Base url\n",
    "base_url = \"https://en.wikipedia.org/wiki/\"\n",
    "author_dob = {}\n",
    "author_infor ={}\n",
    "author_country ={}\n",
    "auth=['Becky Albertalli ',\n",
    " 'Catherine Marshall',\n",
    " 'Sarah J. Maas ',\n",
    " 'André Aciman ']\n",
    "for author in unique_author_list:\n",
    "    # create url along with author name\n",
    "    url = base_url + author\n",
    "    # Retrieve page with the requests module\n",
    "    response = requests.get(url)\n",
    "    try:\n",
    "        # Create BeautifulSoup object; parse with 'html.parser'\n",
    "        soup = BeautifulSoup(response.text, 'html.parser')\n",
    "        author_infor[author]= soup.find('td', class_='infobox-data').text.split(\",\")\n",
    "        author_country[author]= soup.find('td', class_='infobox-data').text.split(\",\")[-1]\n",
    "        author_dob[author]= soup.find('span', class_='bday').text\n",
    "    except AttributeError:\n",
    "        author_infor[author]= \"none\"\n",
    "\n",
    "author_infor\n",
    "author_country\n",
    "author_dob"
   ]
  },
  {
   "cell_type": "code",
   "execution_count": null,
   "metadata": {},
   "outputs": [],
   "source": [
    "# Converting dictionary to dataframe\n",
    "dbf_dob = pd.DataFrame.from_dict(author_dob, orient ='index')\n",
    "df_info = pd.DataFrame.from_dict(author_infor, orient ='index')\n",
    "df_country = pd.DataFrame.from_dict(author_country, orient ='index')"
   ]
  },
  {
   "cell_type": "code",
   "execution_count": null,
   "metadata": {},
   "outputs": [],
   "source": [
    "# Saving to csv file\n",
    "dbf_dob.to_csv('scraped_author_data/birth_date.csv', index=True)\n",
    "df_info.to_csv('scraped_author_data/author_info.csv', index=True)\n",
    "df_country.to_csv('scraped_author_data/birth_country.csv', index=True)\n"
   ]
  },
  {
   "cell_type": "code",
   "execution_count": null,
   "metadata": {},
   "outputs": [],
   "source": [
    "\n"
   ]
  },
  {
   "cell_type": "code",
   "execution_count": null,
   "metadata": {},
   "outputs": [],
   "source": [
    "# Base url\n",
    "base_url = \"https://en.wikipedia.org/wiki/\"\n",
    "author_info ={}\n",
    "\n",
    "# create url along with author name\n",
    "url = base_url + \"Becky Albertalli\"\n",
    "# Retrieve page with the requests module\n",
    "response = requests.get(url)\n",
    "\n",
    "# Create BeautifulSoup object; parse with 'html.parser'\n",
    "soup = BeautifulSoup(response.text, 'html.parser')\n",
    "author_info= soup.find('span', class_='bday').text\n",
    "author_info"
   ]
  }
 ],
 "metadata": {
  "kernelspec": {
   "display_name": "PythonDataOne",
   "language": "python",
   "name": "python3"
  },
  "language_info": {
   "codemirror_mode": {
    "name": "ipython",
    "version": 3
   },
   "file_extension": ".py",
   "mimetype": "text/x-python",
   "name": "python",
   "nbconvert_exporter": "python",
   "pygments_lexer": "ipython3",
   "version": "3.7.7"
  },
  "orig_nbformat": 4,
  "vscode": {
   "interpreter": {
    "hash": "ce4bdd2a926a97411cd4f61eed6479d03a18ef5ef05357d5d9ef8f963de31497"
   }
  }
 },
 "nbformat": 4,
 "nbformat_minor": 2
}
