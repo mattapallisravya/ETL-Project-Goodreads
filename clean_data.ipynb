{
 "cells": [
  {
   "cell_type": "code",
   "execution_count": null,
   "metadata": {},
   "outputs": [],
   "source": [
    "# Import Dependencies\n",
    "import requests\n",
    "import json\n",
    "from bs4 import BeautifulSoup\n",
    "import time\n",
    "from splinter import Browser\n",
    "from webdriver_manager.chrome import ChromeDriverManager\n",
    "import pandas as pd\n",
    "from pandas import to_datetime"
   ]
  },
  {
   "cell_type": "code",
   "execution_count": null,
   "metadata": {},
   "outputs": [],
   "source": [
    "# Read CSV File\n",
    "filt_data_df = pd.read_csv(\"tables/main_table.csv\")\n",
    "filt_data_df"
   ]
  },
  {
   "cell_type": "code",
   "execution_count": null,
   "metadata": {},
   "outputs": [],
   "source": [
    "filt_data_df['publishDate'].value_counts"
   ]
  },
  {
   "cell_type": "code",
   "execution_count": null,
   "metadata": {},
   "outputs": [],
   "source": [
    "# Cleaned the published date column to bring all dates to one format\n",
    "filt_data_df[\"publishedDate\"]= pd.to_datetime(filt_data_df['publishDate'],errors = 'coerce')\n",
    "filt_data_df"
   ]
  },
  {
   "cell_type": "code",
   "execution_count": null,
   "metadata": {},
   "outputs": [],
   "source": [
    "filt_data_df=filt_data_df.dropna()"
   ]
  },
  {
   "cell_type": "code",
   "execution_count": null,
   "metadata": {},
   "outputs": [],
   "source": [
    "filt_data_df['yearPublished'] = pd.DatetimeIndex(filt_data_df['publishedDate']).year\n",
    "filt_data_df"
   ]
  },
  {
   "cell_type": "code",
   "execution_count": null,
   "metadata": {},
   "outputs": [],
   "source": [
    "# Dropped irregular date format column after cleaning\n",
    "filt_data_df.drop(columns=\"publishDate\")"
   ]
  },
  {
   "cell_type": "code",
   "execution_count": null,
   "metadata": {},
   "outputs": [],
   "source": [
    "# Saving dataframe as csv\n",
    "filt_data_df.to_csv(\"tables/year.csv\", index= False)"
   ]
  },
  {
   "cell_type": "code",
   "execution_count": null,
   "metadata": {},
   "outputs": [],
   "source": [
    "# Filtering the data for latest 5 yrs\n",
    "filt_data_df.sort_values(by=\"yearPublished\", ascending=False)"
   ]
  },
  {
   "cell_type": "code",
   "execution_count": null,
   "metadata": {},
   "outputs": [],
   "source": [
    "#df = df[(df['closing_price'] >= 99) & (df['closing_price'] <= 101)]\n",
    "filt_data_df=filt_data_df[(filt_data_df['yearPublished']>=2011)&(filt_data_df['yearPublished']<=2020)].reset_index(inplace=False)"
   ]
  },
  {
   "cell_type": "code",
   "execution_count": 47,
   "metadata": {},
   "outputs": [
    {
     "data": {
      "text/plain": [
       "title             11868\n",
       "rating            11868\n",
       "description       11868\n",
       "language          11868\n",
       "isbn              11868\n",
       "genres            11868\n",
       "pages             11868\n",
       "publishDate       11868\n",
       "publisher         11868\n",
       "numRatings        11868\n",
       "ratingsByStars    11868\n",
       "likedPercent      11868\n",
       "main author       11868\n",
       "publishedDate     11868\n",
       "yearPublished     11868\n",
       "dtype: int64"
      ]
     },
     "execution_count": 47,
     "metadata": {},
     "output_type": "execute_result"
    }
   ],
   "source": [
    "filt_data_df.count()"
   ]
  },
  {
   "cell_type": "code",
   "execution_count": null,
   "metadata": {},
   "outputs": [],
   "source": [
    "filt_data_df = filt_data_df.drop(columns=[\"index\",\"Unnamed: 0\"])"
   ]
  },
  {
   "cell_type": "code",
   "execution_count": 46,
   "metadata": {},
   "outputs": [],
   "source": [
    "# Saving dataframe as csv\n",
    "filt_data_df.to_csv(\"tables/main_table.csv\", index= False)"
   ]
  },
  {
   "cell_type": "code",
   "execution_count": 50,
   "metadata": {},
   "outputs": [
    {
     "data": {
      "text/plain": [
       "5000"
      ]
     },
     "execution_count": 50,
     "metadata": {},
     "output_type": "execute_result"
    }
   ],
   "source": [
    "# Make list of authors\n",
    "author_list = filt_data_df['main author'].tolist()\n",
    "author_list1 = author_list[:5000]\n",
    "len(author_list1)"
   ]
  },
  {
   "cell_type": "code",
   "execution_count": null,
   "metadata": {},
   "outputs": [],
   "source": [
    "# Base url\n",
    "base_url = \"https://en.wikipedia.org/wiki/\"\n",
    "author_dict = {}\n",
    "for author_name in author_list1:\n",
    "    # create url along with author name\n",
    "    url = base_url + author_name\n",
    "    # Retrieve page with the requests module\n",
    "    response = requests.get(url)\n",
    "    try:\n",
    "    # Create BeautifulSoup object; parse with 'html.parser'\n",
    "        soup = BeautifulSoup(response.text, 'html.parser')\n",
    "        author_dict[author_name]= soup.find('span', class_=\"bday\").text\n",
    "    except AttributeError:\n",
    "        author_dict[author_name]= \"none\"\n",
    "\n",
    "   \n",
    "   \n",
    "author_dict  "
   ]
  }
 ],
 "metadata": {
  "kernelspec": {
   "display_name": "PythonDataOne",
   "language": "python",
   "name": "python3"
  },
  "language_info": {
   "codemirror_mode": {
    "name": "ipython",
    "version": 3
   },
   "file_extension": ".py",
   "mimetype": "text/x-python",
   "name": "python",
   "nbconvert_exporter": "python",
   "pygments_lexer": "ipython3",
   "version": "3.7.7"
  },
  "orig_nbformat": 4,
  "vscode": {
   "interpreter": {
    "hash": "ce4bdd2a926a97411cd4f61eed6479d03a18ef5ef05357d5d9ef8f963de31497"
   }
  }
 },
 "nbformat": 4,
 "nbformat_minor": 2
}
